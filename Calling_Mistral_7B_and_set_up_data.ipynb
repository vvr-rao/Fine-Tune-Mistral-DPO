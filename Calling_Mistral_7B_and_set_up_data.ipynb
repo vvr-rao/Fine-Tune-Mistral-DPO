{
 "cells": [
  {
   "cell_type": "code",
   "execution_count": null,
   "metadata": {
    "id": "vHWeQeANp770"
   },
   "outputs": [],
   "source": [
    "from transformers import AutoModelForCausalLM, AutoTokenizer\n",
    "import torch\n",
    "import transformers\n",
    "from tqdm import tqdm"
   ]
  },
  {
   "cell_type": "code",
   "execution_count": null,
   "metadata": {
    "colab": {
     "base_uri": "https://localhost:8080/",
     "height": 35
    },
    "id": "YHpg9j1XqStv",
    "outputId": "f55becbd-0513-4e9f-8e78-e76c4f573539"
   },
   "outputs": [],
   "source": [
    "device = \"cpu\"\n",
    "if torch.cuda.is_available():\n",
    "  device = \"cuda\"\n",
    "\n",
    "device"
   ]
  },
  {
   "cell_type": "code",
   "execution_count": null,
   "metadata": {
    "colab": {
     "base_uri": "https://localhost:8080/"
    },
    "id": "wZQ1Hvmfttg2",
    "outputId": "25dc10e5-7ab1-49ef-a84d-dffeab2fab9b"
   },
   "outputs": [],
   "source": [
    "tokenizer = AutoTokenizer.from_pretrained(\"mistralai/Mistral-7B-Instruct-v0.1\")"
   ]
  },
  {
   "cell_type": "code",
   "execution_count": null,
   "metadata": {
    "id": "eH4dJ2mwtrox"
   },
   "outputs": [],
   "source": [
    "bnb_config = transformers.BitsAndBytesConfig(\n",
    "    load_in_4bit=True,\n",
    "    bnb_4bit_use_double_quant=True,\n",
    "    bnb_4bit_quant_type=\"nf4\",\n",
    "    bnb_4bit_compute_dtype=torch.bfloat16\n",
    ")"
   ]
  },
  {
   "cell_type": "code",
   "execution_count": null,
   "metadata": {
    "colab": {
     "base_uri": "https://localhost:8080/",
     "height": 49,
     "referenced_widgets": [
      "5705bbc6e0424ee593744cb2b7f5660a",
      "fbde6bec9fe44d06a50cd9284cb8881c",
      "c773d134c280404797040a13a41f8241",
      "5a813e2006d54e79a8906399c1bbff2d",
      "7d682ceed1eb4b488ad5c31a0a9500a7",
      "904861246aae4bf3b3fcaf1c59c2806f",
      "ae87c9a977d546c8bcad7a727648a0f5",
      "f5d23797bf3545ffa7cd461a28caa7f6",
      "419d68de3cb944e683989ccd0b17aa1c",
      "880d8a44305741aa85c4b1fe471ccab6",
      "84d8c9cedc0d49f8a582549e24336c61"
     ]
    },
    "id": "LseGM2YyqU34",
    "outputId": "fbb8187a-7623-4379-88d6-4189d4f2b4f6"
   },
   "outputs": [],
   "source": [
    "model = AutoModelForCausalLM.from_pretrained(\"mistralai/Mistral-7B-Instruct-v0.1\",\n",
    "    load_in_4bit=True,\n",
    "    torch_dtype=torch.bfloat16,\n",
    "    quantization_config=bnb_config )\n"
   ]
  },
  {
   "cell_type": "code",
   "execution_count": null,
   "metadata": {
    "id": "I6ilgvLeuwux"
   },
   "outputs": [],
   "source": [
    "#model.to(device) # not needed"
   ]
  },
  {
   "cell_type": "code",
   "execution_count": null,
   "metadata": {
    "colab": {
     "base_uri": "https://localhost:8080/"
    },
    "id": "RkP0xf5PuiAi",
    "outputId": "4871d357-bec4-4922-9aaf-7b5ca93d7861"
   },
   "outputs": [],
   "source": [
    "mem = model.get_memory_footprint()\n",
    "print(\"Memory footprint: {} \".format(mem))"
   ]
  },
  {
   "cell_type": "markdown",
   "metadata": {
    "id": "Ekc4O1CM1zM3"
   },
   "source": [
    "## LLM Reranking Test"
   ]
  },
  {
   "cell_type": "code",
   "execution_count": null,
   "metadata": {
    "id": "g-_z1W7O-C0V"
   },
   "outputs": [],
   "source": [
    "PROMPT_LENGTHS = []"
   ]
  },
  {
   "cell_type": "code",
   "execution_count": null,
   "metadata": {
    "id": "AdSBULpl35eb"
   },
   "outputs": [],
   "source": [
    "def get_resp(system_text, user_text):\n",
    "  input_text = system_text + user_text\n",
    "\n",
    "  encoded = tokenizer(input_text, return_tensors=\"pt\", add_special_tokens=False)\n",
    "  model_inputs = encoded.to(device)\n",
    "  #print(len(model_inputs[0]))\n",
    "  PROMPT_LENGTHS.append(len(model_inputs[0]))\n",
    "  generated_ids = model.generate(**model_inputs, max_new_tokens=400, pad_token_id=tokenizer.eos_token_id, do_sample=False, num_beams=1)\n",
    "  decoded = tokenizer.batch_decode(generated_ids)\n",
    "  return(decoded[0])"
   ]
  },
  {
   "cell_type": "code",
   "execution_count": null,
   "metadata": {
    "id": "SQV7nMby13Oh"
   },
   "outputs": [],
   "source": [
    "system_text = \"\"\"<s>[INST] You are a smart text analysis assistant.\n",
    "Given a QUESTION and a set of posible texts from which to derive the answer, examine each text and reply whether or not the ANSWER exists within the text.\n",
    "You MUST give the response in a VALID JSON object with a Yes or No for each text.\n",
    "\n",
    "\n",
    "So for instance the following:\n",
    "\n",
    "QUESTION: What is the color of the sky?\n",
    "POSIBLE ANSWERS:\n",
    "Source 1: The sky is blue\n",
    "Source 2: The sea is blue\n",
    "Source 3: The sky is blue in the daytime but black at night\n",
    "\n",
    "would give an output of:[/INST]\n",
    "\n",
    "{\n",
    "\"Source 1\": \"Yes\",\n",
    "\"Source 2\": \"No\",\n",
    "\"Source 3\": \"Yes\"\n",
    "}\n",
    "</s>\n",
    "\"\"\""
   ]
  },
  {
   "cell_type": "code",
   "execution_count": null,
   "metadata": {
    "colab": {
     "base_uri": "https://localhost:8080/"
    },
    "id": "JERNojGT3yOs",
    "outputId": "92becce7-4e09-4b34-c092-b49474668e14"
   },
   "outputs": [],
   "source": [
    "user_text = \"\"\"[INST]\n",
    "QUESTION: what is rba\n",
    "POSIBLE ANSWERS:\n",
    "Source 1: Since 2007, the RBA's outstanding reputation has been affected by the 'Securency' or NPA scandal. These RBA subsidiaries were involved in bribing overseas officials so that Australia might win lucrative note-printing contracts. The assets of the bank include the gold and foreign exchange reserves of Australia, which is estimated to have a net worth of A$101 billion. Nearly 94% of the RBA's employees work at its headquarters in Sydney, New South Wales and at the Business Resumption Site.\n",
    "Source 2: Results-Based Accountability® (also known as RBA) is a disciplined way of thinking and taking action that communities can use to improve the lives of children, youth, families, adults and the community as a whole. RBA is also used by organizations to improve the performance of their programs. Creating Community Impact with RBA. Community impact focuses on conditions of well-being for children, families and the community as a whole that a group of leaders is working collectively to improve. For example: “Residents with good jobs,” “Children ready for school,” or “A safe and clean neighborhood”.\n",
    "Source 3: RBA Recognized with the 2014 Microsoft US Regional Partner of the ... by PR Newswire. Contract Awarded for supply and support the. Securitisations System used for risk management and analysis.\n",
    "Source 4: The inner workings of a rebuildable atomizer are surprisingly simple. The coil inside the RBA is made of some type of resistance wire, normally Kanthal or nichrome. When a current is applied to the coil (resistance wire), it heats up and the heated coil then vaporizes the eliquid. 1 The bottom feed RBA is, perhaps, the easiest of all RBA types to build, maintain, and use. 2  It is filled from below, much like bottom coil clearomizer. 3  Bottom feed RBAs can utilize cotton instead of silica for the wick. 4  The Genesis, or genny, is a top feed RBA that utilizes a short woven mesh wire.\n",
    "Source 5: Results-Based Accountability® (also known as RBA) is a disciplined way of thinking and taking action that communities can use to improve the lives of children, youth, families, adults and the community as a whole. RBA is also used by organizations to improve the performance of their programs. RBA improves the lives of children, families, and communities and the performance of programs because RBA: 1  Gets from talk to action quickly; 2  Is a simple, common sense process that everyone can understand; 3  Helps groups to surface and challenge assumptions that can be barriers to innovation;\n",
    "[/INST]\"\"\"\n",
    "\n",
    "a = get_resp(system_text, user_text)\n",
    "print(a[len(system_text):])"
   ]
  },
  {
   "cell_type": "code",
   "execution_count": null,
   "metadata": {
    "colab": {
     "base_uri": "https://localhost:8080/"
    },
    "id": "FAX8QAvt4Val",
    "outputId": "30f7c6fd-225d-42ed-8497-3ffce760960b"
   },
   "outputs": [],
   "source": [
    "user_text = \"\"\"[INST]\n",
    "QUESTION: What is the Capital of Spain?\n",
    "POSIBLE ANSWERS:\n",
    "Source 1: The Capital of Italy is Rome\n",
    "Source 2: Delhi is the capital of India\n",
    "Source 3: Washington DC is the Capital of the United States of Americe\n",
    "[/INST]\n",
    "\"\"\"\n",
    "\n",
    "a = get_resp(system_text, user_text)\n",
    "print(a[len(system_text):])"
   ]
  },
  {
   "cell_type": "code",
   "execution_count": null,
   "metadata": {
    "colab": {
     "base_uri": "https://localhost:8080/"
    },
    "id": "_HjOEIPJ4sqM",
    "outputId": "06a15aa9-50dc-404f-c1c5-df03ee20d9d2"
   },
   "outputs": [],
   "source": [
    "user_text = \"\"\"[INST]\n",
    "QUESTION: was ronald reagan a democrat\n",
    "POSIBLE ANSWERS:\n",
    "Source 1: From Wikipedia, the free encyclopedia. A Reagan Democrat is a traditionally Democratic voter in the United States, especially a white working-class Northerner, who defected from their party to support Republican President Ronald Reagan in either or both the 1980 and 1984 elections. During the 1980 election a dramatic number of voters in the U.S., disillusioned with the economic 'malaise' of the 1970s and the presidency of Jimmy Carter (even more than, four years earlier, Liberal Republican Gerald Ford), supported former California governor (and former Democrat) Ronald Reagan.\n",
    "Source 2: Ronald Reagan began his political life in the Democratic Party, but as he became more and more conservative, he ultimately changed to the Republican Party in the early 1960s. Yes, he switched parties in 1962. He said that he did not desert the Democrats but rather they deserted him. Yes, Ronald Reagan was a member of the Democratic Party until he s â€¦ witched to the Republican Party in 1962, at the age of 51. 8 people found this useful.\n",
    "Source 3: Ronald Wilson Reagan (/ËˆrÉ’nÉ™ld ËˆwÉªlsÉ™n ËˆreÉªÉ¡É™n/ ; February 6, 1911 â€“ June 5, 2004) was an American politician, commentator, and actor, who served as the 40th President of the United States from 1981 to 1989. I think Ronald Reagan changed the trajectory of America in a way that Richard Nixon did not and in a way that Bill Clinton did not. He put us on a fundamentally different path because the country was ready for it.\n",
    "[/INST]\n",
    "\"\"\"\n",
    "\n",
    "a = get_resp(system_text, user_text)\n",
    "print(a[len(system_text):])"
   ]
  },
  {
   "cell_type": "code",
   "execution_count": null,
   "metadata": {
    "colab": {
     "base_uri": "https://localhost:8080/"
    },
    "id": "mgBpLe395P_k",
    "outputId": "81f3f147-71a6-4d50-b5f3-15b35d7273aa"
   },
   "outputs": [],
   "source": [
    "user_text = \"\"\"[INST]\n",
    "QUESTION: was ronald reagan a democrat\n",
    "POSIBLE ANSWERS:\n",
    "Source 1: From Wikipedia, the free encyclopedia. A Reagan Democrat is a traditionally Democratic voter in the United States, especially a white working-class Northerner, who defected from their party to support Republican President Ronald Reagan in either or both the 1980 and 1984 elections. During the 1980 election a dramatic number of voters in the U.S., disillusioned with the economic 'malaise' of the 1970s and the presidency of Jimmy Carter (even more than, four years earlier, Liberal Republican Gerald Ford), supported former California governor  Ronald Reagan.\n",
    "Source 2: Ronald Reagan began his political life in the Democratic Party, but as he became more and more conservative, he ultimately changed to the Republican Party in the early 1960s. Yes, he switched parties in 1962. He said that he did not desert the Democrats but rather they deserted him. Yes, Ronald Reagan was a member of the Democratic Party until he s â€¦ witched to the Republican Party in 1962, at the age of 51. 8 people found this useful.\n",
    "Source 3: Ronald Wilson Reagan (/ËˆrÉ’nÉ™ld ËˆwÉªlsÉ™n ËˆreÉªÉ¡É™n/ ; February 6, 1911 â€“ June 5, 2004) was an American politician, commentator, and actor, who served as the 40th President of the United States from 1981 to 1989. I think Ronald Reagan changed the trajectory of America in a way that Richard Nixon did not and in a way that Bill Clinton did not. He put us on a fundamentally different path because the country was ready for it.\n",
    "[/INST]\n",
    "\"\"\"\n",
    "\n",
    "a = get_resp(system_text, user_text)\n",
    "print(a[len(system_text):])"
   ]
  },
  {
   "cell_type": "code",
   "execution_count": null,
   "metadata": {
    "colab": {
     "base_uri": "https://localhost:8080/"
    },
    "id": "Ad4cBtdI-Y_Z",
    "outputId": "7e1f548e-9796-4abd-8d8e-9bcc5e610aad"
   },
   "outputs": [],
   "source": [
    "PROMPT_LENGTHS, max(PROMPT_LENGTHS)\n"
   ]
  },
  {
   "cell_type": "markdown",
   "metadata": {
    "id": "VgdxjrQsCj1L"
   },
   "source": [
    "## Run multiple"
   ]
  },
  {
   "cell_type": "code",
   "execution_count": null,
   "metadata": {
    "id": "o_9d6YtTCmT1"
   },
   "outputs": [],
   "source": [
    "from datasets import load_dataset\n",
    "import random\n",
    "import json"
   ]
  },
  {
   "cell_type": "code",
   "execution_count": null,
   "metadata": {
    "id": "6e8GtwwqC5wq"
   },
   "outputs": [],
   "source": [
    "dataset = load_dataset(\"ms_marco\", 'v1.1', split=\"train[:1000]\")"
   ]
  },
  {
   "cell_type": "code",
   "execution_count": null,
   "metadata": {
    "id": "Bupr3GhaC8-m"
   },
   "outputs": [],
   "source": [
    "dataset = dataset.filter(lambda example: example['query_type'] == \"description\")"
   ]
  },
  {
   "cell_type": "code",
   "execution_count": null,
   "metadata": {
    "colab": {
     "base_uri": "https://localhost:8080/"
    },
    "id": "u7B7VDBNC9dD",
    "outputId": "0a6145c3-7c07-499d-9692-1d942e3b6c09"
   },
   "outputs": [],
   "source": [
    "len(dataset)"
   ]
  },
  {
   "cell_type": "code",
   "execution_count": null,
   "metadata": {
    "id": "lssAID1HDZsr"
   },
   "outputs": [],
   "source": [
    "def build_pos_neg(row):\n",
    "  NUM_OUTPUT = 5\n",
    "  is_selected = row[\"passages\"][\"is_selected\"]\n",
    "  passages = row[\"passages\"][\"passage_text\"]\n",
    "  pos_passage_text = \"\"\n",
    "  neg_passage_text = []\n",
    "  #get index of positive passage\n",
    "  for i in range(len(is_selected)):\n",
    "    if is_selected[i] == 1:\n",
    "      pos_passage_text = passages[i]\n",
    "    else:\n",
    "      neg_passage_text.append(passages[i])\n",
    "\n",
    "  #random\n",
    "  n = int(random.random()*NUM_OUTPUT + 1) # random number between 1 and NUM_OUTPUT. Determines WHERE to place the text in JSON\n",
    "\n",
    "  #construct input and outputs\n",
    "  input_str = \"[INST]\\nQUESTION: \" + row[\"query\"] + \"\\nPOSIBLE ANSWERS:\\n\"\n",
    "\n",
    "  for i in range(1,NUM_OUTPUT+1):\n",
    "      source_str = \"Source \" + str(i)\n",
    "      if (i == n):\n",
    "        add_string = source_str + \": \" + pos_passage_text + \"\\n\"\n",
    "      else:\n",
    "        if (len(neg_passage_text) > i-1):\n",
    "          add_string = source_str + \": \" + neg_passage_text[i-1] + \"\\n\"\n",
    "\n",
    "      input_str = input_str + add_string\n",
    "  prompt = system_text + input_str + \"[/INST]\"\n",
    "\n",
    "  return {\n",
    "        \"prompt\": prompt\n",
    "  }"
   ]
  },
  {
   "cell_type": "code",
   "execution_count": null,
   "metadata": {
    "colab": {
     "base_uri": "https://localhost:8080/"
    },
    "id": "3YkmzOnqEKVt",
    "outputId": "cc8f3aa2-fb70-4a0d-c460-cfc204bd79f5"
   },
   "outputs": [],
   "source": [
    "# Save columns\n",
    "original_columns = dataset.column_names\n",
    "original_columns"
   ]
  },
  {
   "cell_type": "code",
   "execution_count": null,
   "metadata": {
    "colab": {
     "base_uri": "https://localhost:8080/",
     "height": 49,
     "referenced_widgets": [
      "5d0177fa26fa46099d5a39d6f9c8434e",
      "5a0d91164dea415ba89a0f420945cd66",
      "ed1bf1af5c28425694d533220089f806",
      "0ddd87a41d9a4b389620e6bc5c40bcee",
      "484cfb4d1e6f4232b6f56ca0c8d0d832",
      "388297ead94b4a60bbd711b3cc34ee18",
      "ee6b40ed967041eaa8d22e395a6cb01c",
      "6d50faefab0d4ca0b5181daa6c4975ac",
      "6e536327fe0846d2a0b6c2d5b014db76",
      "00691331a1c84e6583f102fe7f414ba4",
      "f2548af00ad94fa0bcc33bf5a72326db"
     ]
    },
    "id": "m4Cw8gy-EPZY",
    "outputId": "ed38732e-c76b-457f-b7e0-b1557d6ff4a2"
   },
   "outputs": [],
   "source": [
    "# Format dataset\n",
    "dataset = dataset.map(\n",
    "    build_pos_neg,\n",
    "    remove_columns=original_columns\n",
    ")"
   ]
  },
  {
   "cell_type": "code",
   "execution_count": null,
   "metadata": {
    "colab": {
     "base_uri": "https://localhost:8080/"
    },
    "id": "Xk1GH9SbEP7p",
    "outputId": "a02846f4-be8d-47b2-e98a-d14502529ad4"
   },
   "outputs": [],
   "source": [
    "print(dataset[1][\"prompt\"])"
   ]
  },
  {
   "cell_type": "code",
   "execution_count": null,
   "metadata": {
    "colab": {
     "base_uri": "https://localhost:8080/"
    },
    "id": "5gYU0Th5GMOv",
    "outputId": "5ef4b543-9d36-4f95-ec30-65bbc4b613ea"
   },
   "outputs": [],
   "source": [
    "a = get_resp(\"\", dataset[1][\"prompt\"])\n",
    "print(a[len(system_text):])"
   ]
  },
  {
   "cell_type": "code",
   "execution_count": null,
   "metadata": {
    "colab": {
     "base_uri": "https://localhost:8080/"
    },
    "id": "_mCGsOCAHDz9",
    "outputId": "55bb40e3-b062-4e46-86c6-6aabe114461b"
   },
   "outputs": [],
   "source": [
    "len(dataset)"
   ]
  },
  {
   "cell_type": "code",
   "execution_count": null,
   "metadata": {
    "colab": {
     "base_uri": "https://localhost:8080/"
    },
    "id": "pqT3n7gGHGXo",
    "outputId": "67b95d89-5401-4ca2-c720-b4601f949f7a"
   },
   "outputs": [],
   "source": [
    "dataset[216], dataset[0]"
   ]
  },
  {
   "cell_type": "code",
   "execution_count": null,
   "metadata": {
    "id": "J50UZqSg_NdC"
   },
   "outputs": [],
   "source": [
    "PROMPT_LENGTHS = []"
   ]
  },
  {
   "cell_type": "code",
   "execution_count": null,
   "metadata": {
    "colab": {
     "base_uri": "https://localhost:8080/",
     "height": 408
    },
    "id": "aAf2NXdrG7t9",
    "outputId": "62cd6522-abf6-4d0a-8525-150dd83a68c8"
   },
   "outputs": [],
   "source": [
    "resp = []\n",
    "for i in tqdm(range(0,len(dataset) + 1)):\n",
    "  #print(i)\n",
    "  p = dataset[i][\"prompt\"]\n",
    "  a = get_resp(\"\", p)\n",
    "  #print(a[len(system_text):])\n",
    "  resp.append(a[len(system_text):])"
   ]
  },
  {
   "cell_type": "code",
   "execution_count": null,
   "metadata": {
    "colab": {
     "base_uri": "https://localhost:8080/"
    },
    "id": "cRXkAzxzIdFh",
    "outputId": "38222f1e-c6c1-4d11-db13-6c38e71a9df7"
   },
   "outputs": [],
   "source": [
    "print(resp[0])"
   ]
  },
  {
   "cell_type": "code",
   "execution_count": null,
   "metadata": {
    "colab": {
     "base_uri": "https://localhost:8080/"
    },
    "id": "rjz9nU0S_Rig",
    "outputId": "d18127f6-af9c-4bda-8ad9-2519dd3b880a"
   },
   "outputs": [],
   "source": [
    "max(PROMPT_LENGTHS), min(PROMPT_LENGTHS)"
   ]
  },
  {
   "cell_type": "code",
   "execution_count": null,
   "metadata": {
    "colab": {
     "base_uri": "https://localhost:8080/"
    },
    "id": "deIHgprDZaPN",
    "outputId": "25ef5a1e-4556-4278-f7fb-af757d819e31"
   },
   "outputs": [],
   "source": [
    "sum(PROMPT_LENGTHS) / len(PROMPT_LENGTHS)"
   ]
  },
  {
   "cell_type": "code",
   "execution_count": null,
   "metadata": {
    "id": "bCOCKfsXHr3h"
   },
   "outputs": [],
   "source": [
    "import pandas as pd\n",
    "# create a dataframe from the list\n",
    "df = pd.DataFrame(resp)"
   ]
  },
  {
   "cell_type": "code",
   "execution_count": null,
   "metadata": {
    "colab": {
     "base_uri": "https://localhost:8080/",
     "height": 206
    },
    "id": "OzjO2euOIn55",
    "outputId": "63af793b-3d53-4490-e68b-88d93c3fdefc"
   },
   "outputs": [],
   "source": [
    "df.head()"
   ]
  },
  {
   "cell_type": "code",
   "execution_count": null,
   "metadata": {
    "id": "eNnGbEMIHvu2"
   },
   "outputs": [],
   "source": [
    "df.to_csv('outputs-LARGE.csv', index=False)"
   ]
  }
 ],
 "metadata": {
  "accelerator": "GPU",
  "colab": {
   "gpuType": "T4",
   "provenance": []
  },
  "kernelspec": {
   "display_name": "Python 3 (ipykernel)",
   "language": "python",
   "name": "python3"
  },
  "language_info": {
   "codemirror_mode": {
    "name": "ipython",
    "version": 3
   },
   "file_extension": ".py",
   "mimetype": "text/x-python",
   "name": "python",
   "nbconvert_exporter": "python",
   "pygments_lexer": "ipython3",
   "version": "3.9.13"
  },
  "widgets": {
   "application/vnd.jupyter.widget-state+json": {
    "00691331a1c84e6583f102fe7f414ba4": {
     "model_module": "@jupyter-widgets/base",
     "model_module_version": "1.2.0",
     "model_name": "LayoutModel",
     "state": {
      "_model_module": "@jupyter-widgets/base",
      "_model_module_version": "1.2.0",
      "_model_name": "LayoutModel",
      "_view_count": null,
      "_view_module": "@jupyter-widgets/base",
      "_view_module_version": "1.2.0",
      "_view_name": "LayoutView",
      "align_content": null,
      "align_items": null,
      "align_self": null,
      "border": null,
      "bottom": null,
      "display": null,
      "flex": null,
      "flex_flow": null,
      "grid_area": null,
      "grid_auto_columns": null,
      "grid_auto_flow": null,
      "grid_auto_rows": null,
      "grid_column": null,
      "grid_gap": null,
      "grid_row": null,
      "grid_template_areas": null,
      "grid_template_columns": null,
      "grid_template_rows": null,
      "height": null,
      "justify_content": null,
      "justify_items": null,
      "left": null,
      "margin": null,
      "max_height": null,
      "max_width": null,
      "min_height": null,
      "min_width": null,
      "object_fit": null,
      "object_position": null,
      "order": null,
      "overflow": null,
      "overflow_x": null,
      "overflow_y": null,
      "padding": null,
      "right": null,
      "top": null,
      "visibility": null,
      "width": null
     }
    },
    "0ddd87a41d9a4b389620e6bc5c40bcee": {
     "model_module": "@jupyter-widgets/controls",
     "model_module_version": "1.5.0",
     "model_name": "HTMLModel",
     "state": {
      "_dom_classes": [],
      "_model_module": "@jupyter-widgets/controls",
      "_model_module_version": "1.5.0",
      "_model_name": "HTMLModel",
      "_view_count": null,
      "_view_module": "@jupyter-widgets/controls",
      "_view_module_version": "1.5.0",
      "_view_name": "HTMLView",
      "description": "",
      "description_tooltip": null,
      "layout": "IPY_MODEL_00691331a1c84e6583f102fe7f414ba4",
      "placeholder": "​",
      "style": "IPY_MODEL_f2548af00ad94fa0bcc33bf5a72326db",
      "value": " 540/540 [00:00&lt;00:00, 3476.10 examples/s]"
     }
    },
    "388297ead94b4a60bbd711b3cc34ee18": {
     "model_module": "@jupyter-widgets/base",
     "model_module_version": "1.2.0",
     "model_name": "LayoutModel",
     "state": {
      "_model_module": "@jupyter-widgets/base",
      "_model_module_version": "1.2.0",
      "_model_name": "LayoutModel",
      "_view_count": null,
      "_view_module": "@jupyter-widgets/base",
      "_view_module_version": "1.2.0",
      "_view_name": "LayoutView",
      "align_content": null,
      "align_items": null,
      "align_self": null,
      "border": null,
      "bottom": null,
      "display": null,
      "flex": null,
      "flex_flow": null,
      "grid_area": null,
      "grid_auto_columns": null,
      "grid_auto_flow": null,
      "grid_auto_rows": null,
      "grid_column": null,
      "grid_gap": null,
      "grid_row": null,
      "grid_template_areas": null,
      "grid_template_columns": null,
      "grid_template_rows": null,
      "height": null,
      "justify_content": null,
      "justify_items": null,
      "left": null,
      "margin": null,
      "max_height": null,
      "max_width": null,
      "min_height": null,
      "min_width": null,
      "object_fit": null,
      "object_position": null,
      "order": null,
      "overflow": null,
      "overflow_x": null,
      "overflow_y": null,
      "padding": null,
      "right": null,
      "top": null,
      "visibility": null,
      "width": null
     }
    },
    "419d68de3cb944e683989ccd0b17aa1c": {
     "model_module": "@jupyter-widgets/controls",
     "model_module_version": "1.5.0",
     "model_name": "ProgressStyleModel",
     "state": {
      "_model_module": "@jupyter-widgets/controls",
      "_model_module_version": "1.5.0",
      "_model_name": "ProgressStyleModel",
      "_view_count": null,
      "_view_module": "@jupyter-widgets/base",
      "_view_module_version": "1.2.0",
      "_view_name": "StyleView",
      "bar_color": null,
      "description_width": ""
     }
    },
    "484cfb4d1e6f4232b6f56ca0c8d0d832": {
     "model_module": "@jupyter-widgets/base",
     "model_module_version": "1.2.0",
     "model_name": "LayoutModel",
     "state": {
      "_model_module": "@jupyter-widgets/base",
      "_model_module_version": "1.2.0",
      "_model_name": "LayoutModel",
      "_view_count": null,
      "_view_module": "@jupyter-widgets/base",
      "_view_module_version": "1.2.0",
      "_view_name": "LayoutView",
      "align_content": null,
      "align_items": null,
      "align_self": null,
      "border": null,
      "bottom": null,
      "display": null,
      "flex": null,
      "flex_flow": null,
      "grid_area": null,
      "grid_auto_columns": null,
      "grid_auto_flow": null,
      "grid_auto_rows": null,
      "grid_column": null,
      "grid_gap": null,
      "grid_row": null,
      "grid_template_areas": null,
      "grid_template_columns": null,
      "grid_template_rows": null,
      "height": null,
      "justify_content": null,
      "justify_items": null,
      "left": null,
      "margin": null,
      "max_height": null,
      "max_width": null,
      "min_height": null,
      "min_width": null,
      "object_fit": null,
      "object_position": null,
      "order": null,
      "overflow": null,
      "overflow_x": null,
      "overflow_y": null,
      "padding": null,
      "right": null,
      "top": null,
      "visibility": null,
      "width": null
     }
    },
    "5705bbc6e0424ee593744cb2b7f5660a": {
     "model_module": "@jupyter-widgets/controls",
     "model_module_version": "1.5.0",
     "model_name": "HBoxModel",
     "state": {
      "_dom_classes": [],
      "_model_module": "@jupyter-widgets/controls",
      "_model_module_version": "1.5.0",
      "_model_name": "HBoxModel",
      "_view_count": null,
      "_view_module": "@jupyter-widgets/controls",
      "_view_module_version": "1.5.0",
      "_view_name": "HBoxView",
      "box_style": "",
      "children": [
       "IPY_MODEL_fbde6bec9fe44d06a50cd9284cb8881c",
       "IPY_MODEL_c773d134c280404797040a13a41f8241",
       "IPY_MODEL_5a813e2006d54e79a8906399c1bbff2d"
      ],
      "layout": "IPY_MODEL_7d682ceed1eb4b488ad5c31a0a9500a7"
     }
    },
    "5a0d91164dea415ba89a0f420945cd66": {
     "model_module": "@jupyter-widgets/controls",
     "model_module_version": "1.5.0",
     "model_name": "HTMLModel",
     "state": {
      "_dom_classes": [],
      "_model_module": "@jupyter-widgets/controls",
      "_model_module_version": "1.5.0",
      "_model_name": "HTMLModel",
      "_view_count": null,
      "_view_module": "@jupyter-widgets/controls",
      "_view_module_version": "1.5.0",
      "_view_name": "HTMLView",
      "description": "",
      "description_tooltip": null,
      "layout": "IPY_MODEL_388297ead94b4a60bbd711b3cc34ee18",
      "placeholder": "​",
      "style": "IPY_MODEL_ee6b40ed967041eaa8d22e395a6cb01c",
      "value": "Map: 100%"
     }
    },
    "5a813e2006d54e79a8906399c1bbff2d": {
     "model_module": "@jupyter-widgets/controls",
     "model_module_version": "1.5.0",
     "model_name": "HTMLModel",
     "state": {
      "_dom_classes": [],
      "_model_module": "@jupyter-widgets/controls",
      "_model_module_version": "1.5.0",
      "_model_name": "HTMLModel",
      "_view_count": null,
      "_view_module": "@jupyter-widgets/controls",
      "_view_module_version": "1.5.0",
      "_view_name": "HTMLView",
      "description": "",
      "description_tooltip": null,
      "layout": "IPY_MODEL_880d8a44305741aa85c4b1fe471ccab6",
      "placeholder": "​",
      "style": "IPY_MODEL_84d8c9cedc0d49f8a582549e24336c61",
      "value": " 2/2 [01:16&lt;00:00, 35.45s/it]"
     }
    },
    "5d0177fa26fa46099d5a39d6f9c8434e": {
     "model_module": "@jupyter-widgets/controls",
     "model_module_version": "1.5.0",
     "model_name": "HBoxModel",
     "state": {
      "_dom_classes": [],
      "_model_module": "@jupyter-widgets/controls",
      "_model_module_version": "1.5.0",
      "_model_name": "HBoxModel",
      "_view_count": null,
      "_view_module": "@jupyter-widgets/controls",
      "_view_module_version": "1.5.0",
      "_view_name": "HBoxView",
      "box_style": "",
      "children": [
       "IPY_MODEL_5a0d91164dea415ba89a0f420945cd66",
       "IPY_MODEL_ed1bf1af5c28425694d533220089f806",
       "IPY_MODEL_0ddd87a41d9a4b389620e6bc5c40bcee"
      ],
      "layout": "IPY_MODEL_484cfb4d1e6f4232b6f56ca0c8d0d832"
     }
    },
    "6d50faefab0d4ca0b5181daa6c4975ac": {
     "model_module": "@jupyter-widgets/base",
     "model_module_version": "1.2.0",
     "model_name": "LayoutModel",
     "state": {
      "_model_module": "@jupyter-widgets/base",
      "_model_module_version": "1.2.0",
      "_model_name": "LayoutModel",
      "_view_count": null,
      "_view_module": "@jupyter-widgets/base",
      "_view_module_version": "1.2.0",
      "_view_name": "LayoutView",
      "align_content": null,
      "align_items": null,
      "align_self": null,
      "border": null,
      "bottom": null,
      "display": null,
      "flex": null,
      "flex_flow": null,
      "grid_area": null,
      "grid_auto_columns": null,
      "grid_auto_flow": null,
      "grid_auto_rows": null,
      "grid_column": null,
      "grid_gap": null,
      "grid_row": null,
      "grid_template_areas": null,
      "grid_template_columns": null,
      "grid_template_rows": null,
      "height": null,
      "justify_content": null,
      "justify_items": null,
      "left": null,
      "margin": null,
      "max_height": null,
      "max_width": null,
      "min_height": null,
      "min_width": null,
      "object_fit": null,
      "object_position": null,
      "order": null,
      "overflow": null,
      "overflow_x": null,
      "overflow_y": null,
      "padding": null,
      "right": null,
      "top": null,
      "visibility": null,
      "width": null
     }
    },
    "6e536327fe0846d2a0b6c2d5b014db76": {
     "model_module": "@jupyter-widgets/controls",
     "model_module_version": "1.5.0",
     "model_name": "ProgressStyleModel",
     "state": {
      "_model_module": "@jupyter-widgets/controls",
      "_model_module_version": "1.5.0",
      "_model_name": "ProgressStyleModel",
      "_view_count": null,
      "_view_module": "@jupyter-widgets/base",
      "_view_module_version": "1.2.0",
      "_view_name": "StyleView",
      "bar_color": null,
      "description_width": ""
     }
    },
    "7d682ceed1eb4b488ad5c31a0a9500a7": {
     "model_module": "@jupyter-widgets/base",
     "model_module_version": "1.2.0",
     "model_name": "LayoutModel",
     "state": {
      "_model_module": "@jupyter-widgets/base",
      "_model_module_version": "1.2.0",
      "_model_name": "LayoutModel",
      "_view_count": null,
      "_view_module": "@jupyter-widgets/base",
      "_view_module_version": "1.2.0",
      "_view_name": "LayoutView",
      "align_content": null,
      "align_items": null,
      "align_self": null,
      "border": null,
      "bottom": null,
      "display": null,
      "flex": null,
      "flex_flow": null,
      "grid_area": null,
      "grid_auto_columns": null,
      "grid_auto_flow": null,
      "grid_auto_rows": null,
      "grid_column": null,
      "grid_gap": null,
      "grid_row": null,
      "grid_template_areas": null,
      "grid_template_columns": null,
      "grid_template_rows": null,
      "height": null,
      "justify_content": null,
      "justify_items": null,
      "left": null,
      "margin": null,
      "max_height": null,
      "max_width": null,
      "min_height": null,
      "min_width": null,
      "object_fit": null,
      "object_position": null,
      "order": null,
      "overflow": null,
      "overflow_x": null,
      "overflow_y": null,
      "padding": null,
      "right": null,
      "top": null,
      "visibility": null,
      "width": null
     }
    },
    "84d8c9cedc0d49f8a582549e24336c61": {
     "model_module": "@jupyter-widgets/controls",
     "model_module_version": "1.5.0",
     "model_name": "DescriptionStyleModel",
     "state": {
      "_model_module": "@jupyter-widgets/controls",
      "_model_module_version": "1.5.0",
      "_model_name": "DescriptionStyleModel",
      "_view_count": null,
      "_view_module": "@jupyter-widgets/base",
      "_view_module_version": "1.2.0",
      "_view_name": "StyleView",
      "description_width": ""
     }
    },
    "880d8a44305741aa85c4b1fe471ccab6": {
     "model_module": "@jupyter-widgets/base",
     "model_module_version": "1.2.0",
     "model_name": "LayoutModel",
     "state": {
      "_model_module": "@jupyter-widgets/base",
      "_model_module_version": "1.2.0",
      "_model_name": "LayoutModel",
      "_view_count": null,
      "_view_module": "@jupyter-widgets/base",
      "_view_module_version": "1.2.0",
      "_view_name": "LayoutView",
      "align_content": null,
      "align_items": null,
      "align_self": null,
      "border": null,
      "bottom": null,
      "display": null,
      "flex": null,
      "flex_flow": null,
      "grid_area": null,
      "grid_auto_columns": null,
      "grid_auto_flow": null,
      "grid_auto_rows": null,
      "grid_column": null,
      "grid_gap": null,
      "grid_row": null,
      "grid_template_areas": null,
      "grid_template_columns": null,
      "grid_template_rows": null,
      "height": null,
      "justify_content": null,
      "justify_items": null,
      "left": null,
      "margin": null,
      "max_height": null,
      "max_width": null,
      "min_height": null,
      "min_width": null,
      "object_fit": null,
      "object_position": null,
      "order": null,
      "overflow": null,
      "overflow_x": null,
      "overflow_y": null,
      "padding": null,
      "right": null,
      "top": null,
      "visibility": null,
      "width": null
     }
    },
    "904861246aae4bf3b3fcaf1c59c2806f": {
     "model_module": "@jupyter-widgets/base",
     "model_module_version": "1.2.0",
     "model_name": "LayoutModel",
     "state": {
      "_model_module": "@jupyter-widgets/base",
      "_model_module_version": "1.2.0",
      "_model_name": "LayoutModel",
      "_view_count": null,
      "_view_module": "@jupyter-widgets/base",
      "_view_module_version": "1.2.0",
      "_view_name": "LayoutView",
      "align_content": null,
      "align_items": null,
      "align_self": null,
      "border": null,
      "bottom": null,
      "display": null,
      "flex": null,
      "flex_flow": null,
      "grid_area": null,
      "grid_auto_columns": null,
      "grid_auto_flow": null,
      "grid_auto_rows": null,
      "grid_column": null,
      "grid_gap": null,
      "grid_row": null,
      "grid_template_areas": null,
      "grid_template_columns": null,
      "grid_template_rows": null,
      "height": null,
      "justify_content": null,
      "justify_items": null,
      "left": null,
      "margin": null,
      "max_height": null,
      "max_width": null,
      "min_height": null,
      "min_width": null,
      "object_fit": null,
      "object_position": null,
      "order": null,
      "overflow": null,
      "overflow_x": null,
      "overflow_y": null,
      "padding": null,
      "right": null,
      "top": null,
      "visibility": null,
      "width": null
     }
    },
    "ae87c9a977d546c8bcad7a727648a0f5": {
     "model_module": "@jupyter-widgets/controls",
     "model_module_version": "1.5.0",
     "model_name": "DescriptionStyleModel",
     "state": {
      "_model_module": "@jupyter-widgets/controls",
      "_model_module_version": "1.5.0",
      "_model_name": "DescriptionStyleModel",
      "_view_count": null,
      "_view_module": "@jupyter-widgets/base",
      "_view_module_version": "1.2.0",
      "_view_name": "StyleView",
      "description_width": ""
     }
    },
    "c773d134c280404797040a13a41f8241": {
     "model_module": "@jupyter-widgets/controls",
     "model_module_version": "1.5.0",
     "model_name": "FloatProgressModel",
     "state": {
      "_dom_classes": [],
      "_model_module": "@jupyter-widgets/controls",
      "_model_module_version": "1.5.0",
      "_model_name": "FloatProgressModel",
      "_view_count": null,
      "_view_module": "@jupyter-widgets/controls",
      "_view_module_version": "1.5.0",
      "_view_name": "ProgressView",
      "bar_style": "success",
      "description": "",
      "description_tooltip": null,
      "layout": "IPY_MODEL_f5d23797bf3545ffa7cd461a28caa7f6",
      "max": 2,
      "min": 0,
      "orientation": "horizontal",
      "style": "IPY_MODEL_419d68de3cb944e683989ccd0b17aa1c",
      "value": 2
     }
    },
    "ed1bf1af5c28425694d533220089f806": {
     "model_module": "@jupyter-widgets/controls",
     "model_module_version": "1.5.0",
     "model_name": "FloatProgressModel",
     "state": {
      "_dom_classes": [],
      "_model_module": "@jupyter-widgets/controls",
      "_model_module_version": "1.5.0",
      "_model_name": "FloatProgressModel",
      "_view_count": null,
      "_view_module": "@jupyter-widgets/controls",
      "_view_module_version": "1.5.0",
      "_view_name": "ProgressView",
      "bar_style": "success",
      "description": "",
      "description_tooltip": null,
      "layout": "IPY_MODEL_6d50faefab0d4ca0b5181daa6c4975ac",
      "max": 540,
      "min": 0,
      "orientation": "horizontal",
      "style": "IPY_MODEL_6e536327fe0846d2a0b6c2d5b014db76",
      "value": 540
     }
    },
    "ee6b40ed967041eaa8d22e395a6cb01c": {
     "model_module": "@jupyter-widgets/controls",
     "model_module_version": "1.5.0",
     "model_name": "DescriptionStyleModel",
     "state": {
      "_model_module": "@jupyter-widgets/controls",
      "_model_module_version": "1.5.0",
      "_model_name": "DescriptionStyleModel",
      "_view_count": null,
      "_view_module": "@jupyter-widgets/base",
      "_view_module_version": "1.2.0",
      "_view_name": "StyleView",
      "description_width": ""
     }
    },
    "f2548af00ad94fa0bcc33bf5a72326db": {
     "model_module": "@jupyter-widgets/controls",
     "model_module_version": "1.5.0",
     "model_name": "DescriptionStyleModel",
     "state": {
      "_model_module": "@jupyter-widgets/controls",
      "_model_module_version": "1.5.0",
      "_model_name": "DescriptionStyleModel",
      "_view_count": null,
      "_view_module": "@jupyter-widgets/base",
      "_view_module_version": "1.2.0",
      "_view_name": "StyleView",
      "description_width": ""
     }
    },
    "f5d23797bf3545ffa7cd461a28caa7f6": {
     "model_module": "@jupyter-widgets/base",
     "model_module_version": "1.2.0",
     "model_name": "LayoutModel",
     "state": {
      "_model_module": "@jupyter-widgets/base",
      "_model_module_version": "1.2.0",
      "_model_name": "LayoutModel",
      "_view_count": null,
      "_view_module": "@jupyter-widgets/base",
      "_view_module_version": "1.2.0",
      "_view_name": "LayoutView",
      "align_content": null,
      "align_items": null,
      "align_self": null,
      "border": null,
      "bottom": null,
      "display": null,
      "flex": null,
      "flex_flow": null,
      "grid_area": null,
      "grid_auto_columns": null,
      "grid_auto_flow": null,
      "grid_auto_rows": null,
      "grid_column": null,
      "grid_gap": null,
      "grid_row": null,
      "grid_template_areas": null,
      "grid_template_columns": null,
      "grid_template_rows": null,
      "height": null,
      "justify_content": null,
      "justify_items": null,
      "left": null,
      "margin": null,
      "max_height": null,
      "max_width": null,
      "min_height": null,
      "min_width": null,
      "object_fit": null,
      "object_position": null,
      "order": null,
      "overflow": null,
      "overflow_x": null,
      "overflow_y": null,
      "padding": null,
      "right": null,
      "top": null,
      "visibility": null,
      "width": null
     }
    },
    "fbde6bec9fe44d06a50cd9284cb8881c": {
     "model_module": "@jupyter-widgets/controls",
     "model_module_version": "1.5.0",
     "model_name": "HTMLModel",
     "state": {
      "_dom_classes": [],
      "_model_module": "@jupyter-widgets/controls",
      "_model_module_version": "1.5.0",
      "_model_name": "HTMLModel",
      "_view_count": null,
      "_view_module": "@jupyter-widgets/controls",
      "_view_module_version": "1.5.0",
      "_view_name": "HTMLView",
      "description": "",
      "description_tooltip": null,
      "layout": "IPY_MODEL_904861246aae4bf3b3fcaf1c59c2806f",
      "placeholder": "​",
      "style": "IPY_MODEL_ae87c9a977d546c8bcad7a727648a0f5",
      "value": "Loading checkpoint shards: 100%"
     }
    }
   }
  }
 },
 "nbformat": 4,
 "nbformat_minor": 4
}
